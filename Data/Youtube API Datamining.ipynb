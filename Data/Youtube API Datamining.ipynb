{
 "cells": [
  {
   "cell_type": "code",
   "execution_count": 1,
   "metadata": {
    "id": "BkqEbyrrSd5D"
   },
   "outputs": [],
   "source": [
    "import requests\n",
    "import pandas as pd\n",
    "import time\n",
    "import html.parser as htmlparser\n",
    "import html\n",
    "import re"
   ]
  },
  {
   "cell_type": "code",
   "execution_count": 853,
   "metadata": {
    "id": "yN5zGnx7XMNa"
   },
   "outputs": [],
   "source": [
    "#Keys\n",
    "API_KEY = \"***Add Your Key Here\"\n",
    "CHANNEL_ID = \"UCEv62iwobOfIHwKUw_RU9mQ\""
   ]
  },
  {
   "cell_type": "code",
   "execution_count": 854,
   "metadata": {},
   "outputs": [],
   "source": [
    "def deEmojify(text):\n",
    "    \"function to remove emojis from text\"\n",
    "    regrex_pattern = re.compile(\"[\"\n",
    "        u\"\\U0001F600-\\U0001F64F\"  # emoticons\n",
    "        u\"\\U0001F300-\\U0001F5FF\"  # symbols & pictographs\n",
    "        u\"\\U0001F680-\\U0001F6FF\"  # transport & map symbols\n",
    "        u\"\\U0001F1E0-\\U0001F1FF\"  # flags (iOS)\n",
    "        u\"\\U00002500-\\U00002BEF\"  # chinese char\n",
    "        u\"\\U00002702-\\U000027B0\"\n",
    "        u\"\\U00002702-\\U000027B0\"\n",
    "        u\"\\U000024C2-\\U0001F251\"\n",
    "        u\"\\U0001f926-\\U0001f937\"\n",
    "        u\"\\U00010000-\\U0010ffff\"\n",
    "        u\"\\u2640-\\u2642\" \n",
    "        u\"\\u2600-\\u2B55\"\n",
    "        u\"\\u200d\"\n",
    "        u\"\\u23cf\"\n",
    "        u\"\\u23e9\"\n",
    "        u\"\\u231a\"\n",
    "        u\"\\ufe0f\"  # dingbats\n",
    "        u\"\\u3030\"\n",
    "                      \"]+\", re.UNICODE)\n",
    "    return regrex_pattern.sub(r'',text)"
   ]
  },
  {
   "cell_type": "code",
   "execution_count": 855,
   "metadata": {
    "id": "PuvL2HsqoJ8J"
   },
   "outputs": [],
   "source": [
    "def get_video_details(video_id):\n",
    "\n",
    "    #collecting view, like, dislike, comment counts\n",
    "    url_video_stats = \"https://www.googleapis.com/youtube/v3/videos?id=\"+video_id+\"&part=statistics,snippet,contentDetails&key=\"+API_KEY\n",
    "    response_video_stats = requests.get(url_video_stats).json()\n",
    "\n",
    "    view_count = response_video_stats['items'][0]['statistics']['viewCount']\n",
    "    like_count = response_video_stats['items'][0]['statistics']['likeCount']\n",
    "    dislike_count = response_video_stats['items'][0]['statistics']['dislikeCount']\n",
    "    comment_count = response_video_stats['items'][0]['statistics']['commentCount']\n",
    "    video_description_full = response_video_stats['items'][0]['snippet']['description']\n",
    "    video_tags = response_video_stats['items'][0]['snippet'].get('tags')\n",
    "    video_categoryID = response_video_stats['items'][0]['snippet']['categoryId']\n",
    "    video_definition = response_video_stats['items'][0]['contentDetails']['definition']\n",
    "    video_duration = response_video_stats['items'][0]['contentDetails']['duration']\n",
    "    video_caption = response_video_stats['items'][0]['contentDetails']['caption']\n",
    "    video_licensedContent = response_video_stats['items'][0]['contentDetails']['licensedContent']\n",
    "\n",
    "\n",
    "    return view_count, like_count, dislike_count, comment_count, video_description_full, video_tags, video_categoryID, video_definition, video_duration, video_caption, video_licensedContent"
   ]
  },
  {
   "cell_type": "code",
   "execution_count": 856,
   "metadata": {},
   "outputs": [],
   "source": [
    "def get_channel_details(CHANNEL_ID):\n",
    "\n",
    "    #collecting view, like, dislike, comment counts\n",
    "    url_channel_stats = \"https://www.googleapis.com/youtube/v3/channels?id=\"+CHANNEL_ID+\"&part=statistics,snippet,topicDetails,status,brandingSettings&key=\"+API_KEY\n",
    "    response_video_stats = requests.get(url_channel_stats).json()\n",
    "\n",
    "    channel_title = response_video_stats['items'][0]['snippet']['title']\n",
    "    channel_description = response_video_stats['items'][0]['snippet']['description']\n",
    "    channel_customUrl = response_video_stats['items'][0]['snippet']['customUrl']\n",
    "    channel_publishedAt = response_video_stats['items'][0]['snippet']['publishedAt']\n",
    "    channel_country = response_video_stats['items'][0]['snippet']['country']\n",
    "    \n",
    "    channel_subscriberCount = response_video_stats['items'][0]['statistics']['subscriberCount']\n",
    "    channel_hiddenSubscriberCount = response_video_stats['items'][0]['statistics']['hiddenSubscriberCount']\n",
    "    channel_videoCount = response_video_stats['items'][0]['statistics']['videoCount']\n",
    "    channel_viewCount = response_video_stats['items'][0]['statistics']['viewCount']\n",
    "    \n",
    "    channel_topicCategories = response_video_stats['items'][0]['topicDetails']['topicCategories']\n",
    "    \n",
    "    channel_privacyStatus = response_video_stats['items'][0]['status']['privacyStatus']\n",
    "    channel_longUploadsStatus = response_video_stats['items'][0]['status']['longUploadsStatus']\n",
    "    channel_madeForKids = response_video_stats['items'][0]['status']['madeForKids']\n",
    "    \n",
    "    channel_keywords = response_video_stats['items'][0]['brandingSettings']['channel']['keywords']\n",
    "    \n",
    "    return channel_title, channel_description, channel_customUrl, channel_publishedAt, channel_country,channel_subscriberCount, channel_hiddenSubscriberCount, channel_videoCount, channel_viewCount, channel_topicCategories,channel_privacyStatus, channel_longUploadsStatus, channel_madeForKids, channel_keywords"
   ]
  },
  {
   "cell_type": "code",
   "execution_count": 857,
   "metadata": {
    "id": "8l13hjKIdduW"
   },
   "outputs": [],
   "source": [
    "def get_videos(df):\n",
    "    pageToken = \"\"\n",
    "    i = 0\n",
    "    \n",
    "    channel_title, channel_description, channel_customUrl, channel_publishedAt, channel_country, channel_subscriberCount, channel_hiddenSubscriberCount, channel_videoCount, channel_viewCount, channel_topicCategories, channel_privacyStatus, channel_longUploadsStatus, channel_madeForKids, channel_keywords= get_channel_details(CHANNEL_ID)\n",
    "    \n",
    "    while (i < 101):\n",
    "        url = \"https://www.googleapis.com/youtube/v3/search?key=\"+API_KEY+\"&channelId=\"+CHANNEL_ID+\"&part=snippet,id&order=date&maxResults=10000&\"+pageToken\n",
    "        response = requests.get(url).json()\n",
    "        time.sleep(1) #give it a second before starting the for loop\n",
    "        for video in response['items']:\n",
    "            if video['id']['kind'] == \"youtube#video\":\n",
    "                video_id = video['id']['videoId']\n",
    "                video_title = video['snippet']['title']\n",
    "                video_description_short = video['snippet']['description']\n",
    "                video_thumbnail = video['snippet']['thumbnails']['default']\n",
    "                video_title = html.unescape(video_title)\n",
    "                video_title = deEmojify(video_title)\n",
    "                upload_date = video['snippet']['publishedAt']\n",
    "                upload_date = str(upload_date).split(\"T\")[0]\n",
    "                view_count, like_count, dislike_count, comment_count , video_description_full, video_tags, video_categoryID, video_definition, video_duration, video_caption, video_licensedContent= get_video_details(video_id)\n",
    "                i = i+1\n",
    "                df = df.append({'video_id':video_id,'video_title':video_title, \n",
    "                                'video_description_short':video_description_short, 'video_thumbnail':video_thumbnail,\n",
    "                                \"upload_date\":upload_date,\"view_count\":view_count,\n",
    "                                \"like_count\":like_count,\"dislike_count\":dislike_count,\n",
    "                                \"comment_count\":comment_count,\"video_description_full\":video_description_full,\n",
    "                               \"video_tags\":video_tags,\"video_categoryID\":video_categoryID,\n",
    "                               \"video_definition\":video_definition,\"video_duration\":video_duration,\n",
    "                                \"video_caption\":video_caption,\n",
    "                               \"video_licensedContent\":video_licensedContent,'channel_title':channel_title,\n",
    "                               'channel_description':channel_description,'channel_customUrl':channel_customUrl,                                \n",
    "                                'channel_publishedAt':channel_publishedAt,'channel_country':channel_country,                                \n",
    "                                'channel_subscriberCount':channel_subscriberCount,\n",
    "                                'channel_hiddenSubscriberCount':channel_hiddenSubscriberCount,'channel_videoCount':channel_videoCount,                                \n",
    "                                'channel_viewCount':channel_viewCount,'channel_topicCategories':channel_topicCategories,                                \n",
    "                                'channel_privacyStatus':channel_privacyStatus,'channel_longUploadsStatus':channel_longUploadsStatus,                                \n",
    "                                'channel_madeForKids':channel_madeForKids,'channel_keywords':channel_keywords},ignore_index=True)\n",
    "                \n",
    "        try:\n",
    "            if response['nextPageToken'] != None: #if none, it means it reached the last page and break out of it\n",
    "                pageToken = \"pageToken=\" + response['nextPageToken']\n",
    "\n",
    "        except:\n",
    "            break\n",
    "\n",
    "\n",
    "    return df"
   ]
  },
  {
   "cell_type": "code",
   "execution_count": 858,
   "metadata": {
    "id": "v1NMEFet6kRC",
    "scrolled": true
   },
   "outputs": [
    {
     "ename": "KeyError",
     "evalue": "'items'",
     "output_type": "error",
     "traceback": [
      "\u001b[1;31m---------------------------------------------------------------------------\u001b[0m",
      "\u001b[1;31mKeyError\u001b[0m                                  Traceback (most recent call last)",
      "\u001b[1;32m<ipython-input-858-19bfb764388a>\u001b[0m in \u001b[0;36m<module>\u001b[1;34m\u001b[0m\n\u001b[0;32m     11\u001b[0m                             \"channel_longUploadsStatus\",\"channel_madeForKids\",\"channel_keywords\"])\n\u001b[0;32m     12\u001b[0m \u001b[1;33m\u001b[0m\u001b[0m\n\u001b[1;32m---> 13\u001b[1;33m \u001b[0mdf2\u001b[0m \u001b[1;33m=\u001b[0m \u001b[0mget_videos\u001b[0m\u001b[1;33m(\u001b[0m\u001b[0mdf2\u001b[0m\u001b[1;33m)\u001b[0m\u001b[1;33m\u001b[0m\u001b[1;33m\u001b[0m\u001b[0m\n\u001b[0m",
      "\u001b[1;32m<ipython-input-857-91bb7234cc15>\u001b[0m in \u001b[0;36mget_videos\u001b[1;34m(df)\u001b[0m\n\u001b[0;32m      9\u001b[0m         \u001b[0mresponse\u001b[0m \u001b[1;33m=\u001b[0m \u001b[0mrequests\u001b[0m\u001b[1;33m.\u001b[0m\u001b[0mget\u001b[0m\u001b[1;33m(\u001b[0m\u001b[0murl\u001b[0m\u001b[1;33m)\u001b[0m\u001b[1;33m.\u001b[0m\u001b[0mjson\u001b[0m\u001b[1;33m(\u001b[0m\u001b[1;33m)\u001b[0m\u001b[1;33m\u001b[0m\u001b[1;33m\u001b[0m\u001b[0m\n\u001b[0;32m     10\u001b[0m         \u001b[0mtime\u001b[0m\u001b[1;33m.\u001b[0m\u001b[0msleep\u001b[0m\u001b[1;33m(\u001b[0m\u001b[1;36m1\u001b[0m\u001b[1;33m)\u001b[0m \u001b[1;31m#give it a second before starting the for loop\u001b[0m\u001b[1;33m\u001b[0m\u001b[1;33m\u001b[0m\u001b[0m\n\u001b[1;32m---> 11\u001b[1;33m         \u001b[1;32mfor\u001b[0m \u001b[0mvideo\u001b[0m \u001b[1;32min\u001b[0m \u001b[0mresponse\u001b[0m\u001b[1;33m[\u001b[0m\u001b[1;34m'items'\u001b[0m\u001b[1;33m]\u001b[0m\u001b[1;33m:\u001b[0m\u001b[1;33m\u001b[0m\u001b[1;33m\u001b[0m\u001b[0m\n\u001b[0m\u001b[0;32m     12\u001b[0m             \u001b[1;32mif\u001b[0m \u001b[0mvideo\u001b[0m\u001b[1;33m[\u001b[0m\u001b[1;34m'id'\u001b[0m\u001b[1;33m]\u001b[0m\u001b[1;33m[\u001b[0m\u001b[1;34m'kind'\u001b[0m\u001b[1;33m]\u001b[0m \u001b[1;33m==\u001b[0m \u001b[1;34m\"youtube#video\"\u001b[0m\u001b[1;33m:\u001b[0m\u001b[1;33m\u001b[0m\u001b[1;33m\u001b[0m\u001b[0m\n\u001b[0;32m     13\u001b[0m                 \u001b[0mvideo_id\u001b[0m \u001b[1;33m=\u001b[0m \u001b[0mvideo\u001b[0m\u001b[1;33m[\u001b[0m\u001b[1;34m'id'\u001b[0m\u001b[1;33m]\u001b[0m\u001b[1;33m[\u001b[0m\u001b[1;34m'videoId'\u001b[0m\u001b[1;33m]\u001b[0m\u001b[1;33m\u001b[0m\u001b[1;33m\u001b[0m\u001b[0m\n",
      "\u001b[1;31mKeyError\u001b[0m: 'items'"
     ]
    }
   ],
   "source": [
    "#main\n",
    "\n",
    "#build our dataframe\n",
    "\n",
    "df2 = pd.DataFrame(columns=[\"video_id\",\"video_title\",\"video_description_short\",\"video_description_full\",\"video_thumbnail\",\n",
    "                            \"upload_date\",\"view_count\",\"like_count\",\"dislike_count\",\"comment_count\",\"video_tags\",\n",
    "                            \"video_categoryID\",\"video_definition\",\"video_duration\",\"video_caption\",\"video_licensedContent\",\"channel_title\",\n",
    "                            \"channel_description\",\"channel_customUrl\",\"channel_publishedAt\",\"channel_country\",\n",
    "                            \"channel_subscriberCount\",\"channel_hiddenSubscriberCount\",\n",
    "                            \"channel_viewCount\",\"channel_topicCategories\",\"channel_privacyStatus\",                            \n",
    "                            \"channel_longUploadsStatus\",\"channel_madeForKids\",\"channel_keywords\"])\n",
    "\n",
    "df2 = get_videos(df2)"
   ]
  },
  {
   "cell_type": "code",
   "execution_count": null,
   "metadata": {},
   "outputs": [],
   "source": [
    "API_Clean = df2.astype({'video_id':'string',\n",
    "            'video_title':'string',\n",
    "            'video_description_short':'string',\n",
    "            'video_thumbnail':'string',\n",
    "           'upload_date':'string',\n",
    "           'view_count':'int32',\n",
    "           'like_count':'int32',\n",
    "           'dislike_count':'int32'})\n"
   ]
  },
  {
   "cell_type": "code",
   "execution_count": null,
   "metadata": {
    "id": "DH7hfKCvZDLi"
   },
   "outputs": [],
   "source": [
    "API_Clean.to_excel(r'C:\\Users\\a_sky\\OneDrive\\Documents\\UChicago\\21 Fall\\Data Engineering Platforms\\Assignment1/2.33.xlsx', index = False)"
   ]
  },
  {
   "cell_type": "code",
   "execution_count": null,
   "metadata": {},
   "outputs": [],
   "source": []
  }
 ],
 "metadata": {
  "colab": {
   "name": "extracting_data_from_youtube_api.ipynb",
   "provenance": []
  },
  "kernelspec": {
   "display_name": "Python 3",
   "language": "python",
   "name": "python3"
  },
  "language_info": {
   "codemirror_mode": {
    "name": "ipython",
    "version": 3
   },
   "file_extension": ".py",
   "mimetype": "text/x-python",
   "name": "python",
   "nbconvert_exporter": "python",
   "pygments_lexer": "ipython3",
   "version": "3.8.5"
  }
 },
 "nbformat": 4,
 "nbformat_minor": 1
}
